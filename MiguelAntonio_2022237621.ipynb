{
 "cells": [
  {
   "cell_type": "markdown",
   "id": "c2e19b3b",
   "metadata": {},
   "source": [
    "# Introduction"
   ]
  },
  {
   "cell_type": "markdown",
   "id": "7139a85c",
   "metadata": {},
   "source": [
    "- Import the Libraries"
   ]
  },
  {
   "cell_type": "code",
   "execution_count": 1,
   "id": "5430b8a5",
   "metadata": {},
   "outputs": [],
   "source": [
    "import pandas as pd\n",
    "import numpy as np\n",
    "import os\n",
    "from pathlib import Path\n",
    "import matplotlib.pyplot as plt"
   ]
  },
  {
   "cell_type": "markdown",
   "id": "e1a35f24",
   "metadata": {},
   "source": [
    "## 2 - Download the Data"
   ]
  },
  {
   "cell_type": "markdown",
   "id": "02ee07ee",
   "metadata": {},
   "source": [
    "- Download the data"
   ]
  },
  {
   "cell_type": "code",
   "execution_count": 2,
   "id": "2d4fde35",
   "metadata": {},
   "outputs": [],
   "source": [
    "BASE_PATH = os.path.join(os.getcwd(), \"FORTH_TRACE_DATASET-master\\FORTH_TRACE_DATASET-master\")\n",
    "\n",
    "def load_data(participant_id, device_id, base_path=BASE_PATH):\n",
    "    filepath = os.path.join(base_path, f\"part{participant_id}\", f\"part{participant_id}dev{device_id}.csv\")\n",
    "    data = np.genfromtxt(filepath, delimiter=',')\n",
    "    return data\n",
    "\n"
   ]
  },
  {
   "cell_type": "markdown",
   "id": "8c361a3d",
   "metadata": {},
   "source": [
    "- Loading the data from only device 1 for each individual "
   ]
  },
  {
   "cell_type": "code",
   "execution_count": 3,
   "id": "bd023305",
   "metadata": {},
   "outputs": [
    {
     "name": "stdout",
     "output_type": "stream",
     "text": [
      "Número de arrays:  15 \n",
      "\n",
      "Arrays:  [array([[ 1.0000e+00, -1.8650e+00,  9.3890e+00, ...,  1.0134e+00,\n",
      "         5.0589e+02,  1.0000e+00],\n",
      "       [ 1.0000e+00, -1.7963e+00,  9.3742e+00, ...,  1.0000e+00,\n",
      "         5.2542e+02,  1.0000e+00],\n",
      "       [ 1.0000e+00, -1.8696e+00,  9.3000e+00, ...,  1.0156e+00,\n",
      "         5.4495e+02,  1.0000e+00],\n",
      "       ...,\n",
      "       [ 1.0000e+00, -2.1324e+00,  9.3112e+00, ...,  5.4343e-01,\n",
      "         1.0379e+06,  1.0000e+00],\n",
      "       [ 1.0000e+00, -2.1327e+00,  9.3110e+00, ...,  5.5234e-01,\n",
      "         1.0380e+06,  1.0000e+00],\n",
      "       [ 1.0000e+00, -2.1334e+00,  9.2982e+00, ...,  5.4120e-01,\n",
      "         1.0380e+06,  1.0000e+00]]), array([[ 1.0000e+00, -1.1173e+00,  9.6762e+00, ...,  4.6771e-02,\n",
      "         8.7930e+02,  1.0000e+00],\n",
      "       [ 1.0000e+00, -1.2130e+00,  9.7239e+00, ...,  5.7906e-02,\n",
      "         8.9883e+02,  1.0000e+00],\n",
      "       [ 1.0000e+00, -1.1892e+00,  9.7119e+00, ...,  6.4588e-02,\n",
      "         9.1837e+02,  1.0000e+00],\n",
      "       ...,\n",
      "       [ 1.0000e+00, -1.3065e+00,  9.7499e+00, ...,  5.1448e-01,\n",
      "         1.0433e+06,  1.0000e+00],\n",
      "       [ 1.0000e+00, -1.3065e+00,  9.7137e+00, ...,  5.2339e-01,\n",
      "         1.0433e+06,  1.0000e+00],\n",
      "       [ 1.0000e+00, -1.3184e+00,  9.7137e+00, ...,  5.2561e-01,\n",
      "         1.0434e+06,  1.0000e+00]]), array([[ 1.0000e+00, -2.1166e+00,  9.5323e+00, ...,  6.4811e-01,\n",
      "         6.5375e+02,  1.0000e+00],\n",
      "       [ 1.0000e+00, -2.1394e+00,  9.5213e+00, ...,  6.6147e-01,\n",
      "         6.7328e+02,  1.0000e+00],\n",
      "       [ 1.0000e+00, -2.1398e+00,  9.4244e+00, ...,  6.6147e-01,\n",
      "         6.9281e+02,  1.0000e+00],\n",
      "       ...,\n",
      "       [ 1.0000e+00, -1.9381e+00,  9.6166e+00, ...,  6.1470e-01,\n",
      "         1.0406e+06,  1.0000e+00],\n",
      "       [ 1.0000e+00, -1.9257e+00,  9.4966e+00, ...,  6.2138e-01,\n",
      "         1.0406e+06,  1.0000e+00],\n",
      "       [ 1.0000e+00, -1.9502e+00,  9.5079e+00, ...,  6.1470e-01,\n",
      "         1.0406e+06,  1.0000e+00]]), array([[ 1.0000e+00, -3.8686e+00,  8.3008e+00, ...,  9.5100e-01,\n",
      "         6.6046e+02,  1.0000e+00],\n",
      "       [ 1.0000e+00, -3.9050e+00,  8.3242e+00, ...,  9.5991e-01,\n",
      "         6.7999e+02,  1.0000e+00],\n",
      "       [ 1.0000e+00, -3.9167e+00,  8.3365e+00, ...,  9.5768e-01,\n",
      "         6.9952e+02,  1.0000e+00],\n",
      "       ...,\n",
      "       [ 1.0000e+00, -3.5183e+00,  8.5349e+00, ...,  6.4143e-01,\n",
      "         1.0410e+06,  1.0000e+00],\n",
      "       [ 1.0000e+00, -3.4937e+00,  8.5477e+00, ...,  6.4143e-01,\n",
      "         1.0410e+06,  1.0000e+00],\n",
      "       [ 1.0000e+00, -3.5171e+00,  8.6084e+00, ...,  6.5256e-01,\n",
      "         1.0410e+06,  1.0000e+00]]), array([[ 1.0000e+00, -2.2433e+00,  9.4040e+00, ...,  8.0401e-01,\n",
      "         9.7601e+04,  1.0000e+00],\n",
      "       [ 1.0000e+00, -2.2197e+00,  9.4399e+00, ...,  8.0624e-01,\n",
      "         9.7620e+04,  1.0000e+00],\n",
      "       [ 1.0000e+00, -2.1962e+00,  9.4397e+00, ...,  7.8619e-01,\n",
      "         9.7640e+04,  1.0000e+00],\n",
      "       ...,\n",
      "       [ 1.0000e+00, -2.1902e+00,  9.6626e+00, ...,  5.0111e-01,\n",
      "         1.1353e+06,  1.0000e+00],\n",
      "       [ 1.0000e+00, -2.2247e+00,  9.6277e+00, ...,  4.9443e-01,\n",
      "         1.1353e+06,  1.0000e+00],\n",
      "       [ 1.0000e+00, -2.2001e+00,  9.5682e+00, ...,  5.0557e-01,\n",
      "         1.1353e+06,  1.0000e+00]]), array([[ 1.0000e+00, -2.3432e+00,  9.5200e+00, ...,  3.8085e-01,\n",
      "         1.5095e+03,  1.0000e+00],\n",
      "       [ 1.0000e+00, -2.3908e+00,  9.5320e+00, ...,  3.9198e-01,\n",
      "         1.5290e+03,  1.0000e+00],\n",
      "       [ 1.0000e+00, -2.3306e+00,  9.5328e+00, ...,  3.9644e-01,\n",
      "         1.5486e+03,  1.0000e+00],\n",
      "       ...,\n",
      "       [ 1.0000e+00, -2.3194e+00,  9.4718e+00, ...,  1.7372e-01,\n",
      "         1.0339e+06,  1.0000e+00],\n",
      "       [ 1.0000e+00, -2.3432e+00,  9.4718e+00, ...,  1.7149e-01,\n",
      "         1.0339e+06,  1.0000e+00],\n",
      "       [ 1.0000e+00, -2.4034e+00,  9.4711e+00, ...,  1.6481e-01,\n",
      "         1.0339e+06,  1.0000e+00]]), array([[ 1.0000e+00, -3.7502e+00,  8.9632e+00, ...,  8.0846e-01,\n",
      "         7.7936e+02,  1.0000e+00],\n",
      "       [ 1.0000e+00, -3.8095e+00,  8.9514e+00, ...,  8.0178e-01,\n",
      "         7.9889e+02,  1.0000e+00],\n",
      "       [ 1.0000e+00, -3.7971e+00,  8.9278e+00, ...,  7.8842e-01,\n",
      "         8.1842e+02,  1.0000e+00],\n",
      "       ...,\n",
      "       [ 1.0000e+00, -3.7296e+00,  8.9239e+00, ...,  6.4143e-01,\n",
      "         1.0482e+06,  1.0000e+00],\n",
      "       [ 1.0000e+00, -3.7534e+00,  8.9359e+00, ...,  6.3920e-01,\n",
      "         1.0482e+06,  1.0000e+00],\n",
      "       [ 1.0000e+00, -3.7531e+00,  8.9241e+00, ...,  6.6147e-01,\n",
      "         1.0483e+06,  1.0000e+00]]), array([[ 1.0000e+00, -8.4302e-01,  9.3027e+00, ...,  1.0913e+00,\n",
      "         1.9184e+03,  1.0000e+00],\n",
      "       [ 1.0000e+00, -8.6780e-01,  9.3138e+00, ...,  1.0935e+00,\n",
      "         1.9380e+03,  1.0000e+00],\n",
      "       [ 1.0000e+00, -9.1345e-01,  9.3157e+00, ...,  1.0980e+00,\n",
      "         1.9575e+03,  1.0000e+00],\n",
      "       ...,\n",
      "       [ 1.0000e+00, -1.1540e+00,  9.4460e+00, ...,  4.6102e-01,\n",
      "         1.0269e+06,  1.0000e+00],\n",
      "       [ 1.0000e+00, -1.1904e+00,  9.4453e+00, ...,  4.8552e-01,\n",
      "         1.0269e+06,  1.0000e+00],\n",
      "       [ 1.0000e+00, -1.1780e+00,  9.4819e+00, ...,  4.7216e-01,\n",
      "         1.0269e+06,  1.0000e+00]]), array([[ 1.0000e+00, -6.6783e-01,  9.5163e+00, ...,  9.7327e-01,\n",
      "         3.6050e+02,  1.0000e+00],\n",
      "       [ 1.0000e+00, -6.9162e-01,  9.5043e+00, ...,  9.7550e-01,\n",
      "         3.8004e+02,  1.0000e+00],\n",
      "       [ 1.0000e+00, -7.2684e-01,  9.5289e+00, ...,  9.7105e-01,\n",
      "         3.9957e+02,  1.0000e+00],\n",
      "       ...,\n",
      "       [ 1.0000e+00, -9.6678e-01,  9.5030e+00, ..., -3.0067e-01,\n",
      "         1.0374e+06,  1.0000e+00],\n",
      "       [ 1.0000e+00, -9.9084e-01,  9.5268e+00, ..., -2.9621e-01,\n",
      "         1.0374e+06,  1.0000e+00],\n",
      "       [ 1.0000e+00, -1.0141e+00,  9.5273e+00, ..., -2.9176e-01,\n",
      "         1.0374e+06,  1.0000e+00]]), array([[ 1.0000e+00, -1.9803e+00,  9.5256e+00, ...,  5.2116e-01,\n",
      "         3.5955e+04,  1.0000e+00],\n",
      "       [ 1.0000e+00, -1.9808e+00,  9.5010e+00, ...,  5.1448e-01,\n",
      "         3.5975e+04,  1.0000e+00],\n",
      "       [ 1.0000e+00, -1.9567e+00,  9.5013e+00, ...,  5.0557e-01,\n",
      "         3.5994e+04,  1.0000e+00],\n",
      "       ...,\n",
      "       [ 1.0000e+00, -1.4198e+00,  9.5988e+00, ...,  5.9020e-01,\n",
      "         1.0609e+06,  1.0000e+00],\n",
      "       [ 1.0000e+00, -1.4084e+00,  9.6104e+00, ...,  5.9911e-01,\n",
      "         1.0609e+06,  1.0000e+00],\n",
      "       [ 1.0000e+00, -1.4196e+00,  9.5991e+00, ...,  5.9911e-01,\n",
      "         1.0609e+06,  1.0000e+00]]), array([[ 1.0000e+00, -2.4716e-01,  9.4721e+00, ...,  9.9555e-01,\n",
      "         4.1565e+01,  1.0000e+00],\n",
      "       [ 1.0000e+00, -3.0546e-01,  9.5216e+00, ...,  1.0089e+00,\n",
      "         6.1096e+01,  1.0000e+00],\n",
      "       [ 1.0000e+00, -2.3356e-01,  9.4859e+00, ...,  1.0156e+00,\n",
      "         8.0627e+01,  1.0000e+00],\n",
      "       ...,\n",
      "       [ 1.0000e+00,  2.3483e-01,  9.6227e+00, ...,  6.6592e-01,\n",
      "         1.0418e+06,  1.0000e+00],\n",
      "       [ 1.0000e+00,  2.8366e-01,  9.5757e+00, ...,  6.7483e-01,\n",
      "         1.0418e+06,  1.0000e+00],\n",
      "       [ 1.0000e+00,  3.0601e-01,  9.5622e+00, ...,  6.6592e-01,\n",
      "         1.0418e+06,  1.0000e+00]]), array([[ 1.0000e+00, -2.7330e+00,  8.9200e+00, ...,  8.7528e-01,\n",
      "         1.5372e+03,  1.0000e+00],\n",
      "       [ 1.0000e+00, -2.7328e+00,  8.9203e+00, ...,  8.8641e-01,\n",
      "         1.5567e+03,  1.0000e+00],\n",
      "       [ 1.0000e+00, -2.6970e+00,  8.8359e+00, ...,  8.9310e-01,\n",
      "         1.5762e+03,  1.0000e+00],\n",
      "       ...,\n",
      "       [ 1.0000e+00, -2.6073e+00,  8.9992e+00, ...,  5.2116e-01,\n",
      "         1.0520e+06,  1.0000e+00],\n",
      "       [ 1.0000e+00, -2.6187e+00,  8.9876e+00, ...,  5.1448e-01,\n",
      "         1.0520e+06,  1.0000e+00],\n",
      "       [ 1.0000e+00, -2.6313e+00,  8.9387e+00, ...,  5.1670e-01,\n",
      "         1.0520e+06,  1.0000e+00]]), array([[ 1.0000e+00, -2.0018e+00,  9.3711e+00, ...,  8.8196e-01,\n",
      "         7.4036e+02,  1.0000e+00],\n",
      "       [ 1.0000e+00, -2.0382e+00,  9.3584e+00, ...,  8.8641e-01,\n",
      "         7.5989e+02,  1.0000e+00],\n",
      "       [ 1.0000e+00, -2.0620e+00,  9.3704e+00, ...,  8.8641e-01,\n",
      "         7.7942e+02,  1.0000e+00],\n",
      "       ...,\n",
      "       [ 1.0000e+00, -1.9153e+00,  9.3743e+00, ..., -2.9621e-01,\n",
      "         1.0382e+06,  1.0000e+00],\n",
      "       [ 1.0000e+00, -1.8429e+00,  9.3511e+00, ..., -2.9621e-01,\n",
      "         1.0382e+06,  1.0000e+00],\n",
      "       [ 1.0000e+00, -1.8201e+00,  9.3622e+00, ..., -2.8062e-01,\n",
      "         1.0382e+06,  1.0000e+00]]), array([[ 1.0000e+00,  2.8373e-02,  9.6427e+00, ...,  7.2606e-01,\n",
      "         7.8070e+02,  1.0000e+00],\n",
      "       [ 1.0000e+00, -1.8983e-02,  9.6430e+00, ...,  7.1492e-01,\n",
      "         8.0023e+02,  1.0000e+00],\n",
      "       [ 1.0000e+00, -6.5862e-02,  9.6678e+00, ...,  7.1269e-01,\n",
      "         8.1976e+02,  1.0000e+00],\n",
      "       ...,\n",
      "       [ 1.0000e+00, -2.2962e+00,  9.4106e+00, ...,  4.6771e-02,\n",
      "         1.0462e+06,  1.0000e+00],\n",
      "       [ 1.0000e+00, -2.2729e+00,  9.3861e+00, ...,  6.6815e-02,\n",
      "         1.0463e+06,  1.0000e+00],\n",
      "       [ 1.0000e+00, -2.2491e+00,  9.3861e+00, ...,  5.7906e-02,\n",
      "         1.0463e+06,  1.0000e+00]]), array([[ 1.0000e+00, -2.8247e+00,  9.1527e+00, ...,  6.7261e-01,\n",
      "         1.7156e+03,  1.0000e+00],\n",
      "       [ 1.0000e+00, -2.8243e+00,  9.1773e+00, ...,  6.7483e-01,\n",
      "         1.7351e+03,  1.0000e+00],\n",
      "       [ 1.0000e+00, -2.8002e+00,  9.1655e+00, ...,  6.7483e-01,\n",
      "         1.7546e+03,  1.0000e+00],\n",
      "       ...,\n",
      "       [ 1.0000e+00, -2.8658e+00,  9.2196e+00, ..., -1.9154e-01,\n",
      "         1.0417e+06,  1.0000e+00],\n",
      "       [ 1.0000e+00, -2.7702e+00,  9.2683e+00, ..., -1.9376e-01,\n",
      "         1.0417e+06,  1.0000e+00],\n",
      "       [ 1.0000e+00, -2.7935e+00,  9.2929e+00, ..., -2.1381e-01,\n",
      "         1.0417e+06,  1.0000e+00]])]\n"
     ]
    }
   ],
   "source": [
    "individuals = []\n",
    "for i in range(15): \n",
    "    data = load_data(i, 1)\n",
    "    individuals.append(data)\n",
    "\n",
    "print(\"Número de arrays: \",len(individuals),\"\\n\")\n",
    "print(\"Arrays: \",individuals)"
   ]
  },
  {
   "cell_type": "markdown",
   "id": "e4f2395d",
   "metadata": {},
   "source": [
    "- Each array has different sizes, these is expected because they used continuoes sensors"
   ]
  },
  {
   "cell_type": "code",
   "execution_count": 4,
   "id": "a4b49706",
   "metadata": {},
   "outputs": [
    {
     "name": "stdout",
     "output_type": "stream",
     "text": [
      "Tamanho do array 0:  53120\n",
      "Tamanho do array 1:  53376\n",
      "Tamanho do array 2:  53248\n",
      "Tamanho do array 3:  53268\n",
      "Tamanho do array 4:  53120\n",
      "Tamanho do array 5:  52861\n",
      "Tamanho do array 6:  53632\n",
      "Tamanho do array 7:  52480\n",
      "Tamanho do array 8:  52992\n",
      "Tamanho do array 9:  52480\n",
      "Tamanho do array 10:  51456\n",
      "Tamanho do array 11:  52864\n",
      "Tamanho do array 12:  53120\n",
      "Tamanho do array 13:  52992\n",
      "Tamanho do array 14:  53248\n"
     ]
    }
   ],
   "source": [
    "for i in range(len(individuals)):\n",
    "    print(f\"Tamanho do array {i}: \",len(individuals[i]))"
   ]
  },
  {
   "cell_type": "markdown",
   "id": "7dd2e953",
   "metadata": {},
   "source": [
    "## 3 - Outliers Analysis and Handling"
   ]
  },
  {
   "cell_type": "markdown",
   "id": "02c29c48",
   "metadata": {},
   "source": [
    "### 3.1 - Boxplot for each activity "
   ]
  },
  {
   "cell_type": "markdown",
   "id": "d7463144",
   "metadata": {},
   "source": [
    "- Calculation of each vector module"
   ]
  },
  {
   "cell_type": "markdown",
   "id": "356c46e8",
   "metadata": {},
   "source": [
    "• Column 2: accelerometer x\n",
    "\n",
    "• Column 3: accelerometer y\n",
    "\n",
    "• Column 4: accelerometer z\n",
    "\n",
    "• Column 5: gyroscope x\n",
    "\n",
    "• Column 6: gyroscope y\n",
    "\n",
    "• Column 7: gyroscope z\n",
    "\n",
    "• Column 8: magnetometer x\n",
    "\n",
    "• Column 9: magnetometer y\n",
    "\n",
    "• Column 10: magnetometer z\n",
    "\n",
    "• Column 12: Activity Label"
   ]
  },
  {
   "cell_type": "code",
   "execution_count": 5,
   "id": "e8151f45",
   "metadata": {},
   "outputs": [
    {
     "name": "stdout",
     "output_type": "stream",
     "text": [
      "Estrutura de activities:  4\n"
     ]
    }
   ],
   "source": [
    "activities = {1:[],2:[],3:[],4:[]}\n",
    "\n",
    "for i in range(len(individuals)):\n",
    "    data = individuals[i]  \n",
    "    for row in data:\n",
    "        label = int(row[11])  \n",
    "        if label in activities:\n",
    "            accelerometer  = np.sqrt(row[1]**2 + row[2]**2 + row[3]**2)\n",
    "            gyroscope = np.sqrt(row[4]**2 + row[5]**2 + row[6]**2)\n",
    "            magnetometer  = np.sqrt(row[7]**2 + row[8]**2 + row[9]**2)\n",
    "\n",
    "            activities[label].append((accelerometer,gyroscope,magnetometer))\n",
    "\n",
    "print(\"Estrutura de activities: \",len(activities))"
   ]
  },
  {
   "cell_type": "markdown",
   "id": "e0a84881",
   "metadata": {},
   "source": [
    "- Each activity has different data sizes"
   ]
  },
  {
   "cell_type": "code",
   "execution_count": 6,
   "id": "c726d40a",
   "metadata": {},
   "outputs": [
    {
     "name": "stdout",
     "output_type": "stream",
     "text": [
      "Número de dados da atividade 1:  162125\n",
      "Número de dados da atividade 2:  85632\n",
      "Número de dados da atividade 3:  83584\n",
      "Número de dados da atividade 4:  141342\n"
     ]
    }
   ],
   "source": [
    "for key in activities:\n",
    "    print(f\"Número de dados da atividade {key}: \",len(activities[key]))"
   ]
  },
  {
   "cell_type": "markdown",
   "id": "c4ccaccc",
   "metadata": {},
   "source": [
    "- Boxplot of sensors/activity"
   ]
  },
  {
   "cell_type": "code",
   "execution_count": 7,
   "id": "609b97cc",
   "metadata": {},
   "outputs": [
    {
     "name": "stdout",
     "output_type": "stream",
     "text": [
      "Tamanho dos dados do accelerometro:  4\n",
      "Tamanho dos dados do giroscópio:  4\n",
      "Tamanho dos dados do magnetómetro:  4\n"
     ]
    }
   ],
   "source": [
    "accelerometer_activity = []\n",
    "gyroscope_activity = []\n",
    "magnetometer_activity = []\n",
    "\n",
    "for act in range(1, 5):\n",
    "    acceloremeter_values  = [x[0] for x in activities[act]]\n",
    "    gyroscope_values = [x[1] for x in activities[act]]\n",
    "    magnetometer_values  = [x[2] for x in activities[act]]\n",
    "\n",
    "    accelerometer_activity.append(acceloremeter_values)\n",
    "    gyroscope_activity.append(gyroscope_values)\n",
    "    magnetometer_activity.append(magnetometer_values)\n",
    "\n",
    "print(\"Tamanho dos dados do accelerometro: \",len(accelerometer_activity))\n",
    "print(\"Tamanho dos dados do giroscópio: \",len(gyroscope_activity))\n",
    "print(\"Tamanho dos dados do magnetómetro: \",len(magnetometer_activity))"
   ]
  },
  {
   "cell_type": "code",
   "execution_count": 8,
   "id": "aba9b053",
   "metadata": {},
   "outputs": [
    {
     "data": {
      "image/png": "[encoded data removed]",
      "text/plain": [
       "<Figure size 1400x400 with 3 Axes>"
      ]
     },
     "metadata": {},
     "output_type": "display_data"
    }
   ],
   "source": [
    "plt.figure(figsize=(14, 4))\n",
    "\n",
    "plt.subplot(1, 3, 1)\n",
    "plt.boxplot(accelerometer_activity)\n",
    "plt.title(\"Accelerometer Magnitude by Activity - Device 1\")\n",
    "plt.xlabel(\"Activity\")\n",
    "plt.ylabel(\"Magnitude\")\n",
    "\n",
    "plt.subplot(1, 3, 2)\n",
    "plt.boxplot(gyroscope_activity)\n",
    "plt.title(\"Gyroscope Magnitude by Activity - Device 1\")\n",
    "plt.xlabel(\"Activity\")\n",
    "\n",
    "plt.subplot(1, 3, 3)\n",
    "plt.boxplot(magnetometer_activity)\n",
    "plt.title(\"Magnetometer Magnitude by Activity - Device 1\")\n",
    "plt.xlabel(\"Activity\")\n",
    "\n",
    "plt.tight_layout()\n",
    "plt.show()\n"
   ]
  },
  {
   "cell_type": "markdown",
   "id": "11c0b9ef",
   "metadata": {},
   "source": [
    "### 3.2 - Analyse and Comment the Denity of Outliers\n",
    "- IQR Implementation"
   ]
  },
  {
   "cell_type": "markdown",
   "id": "351e8d04",
   "metadata": {},
   "source": [
    "- Sort the lists of each sensor"
   ]
  },
  {
   "cell_type": "code",
   "execution_count": 9,
   "id": "b1dd8eec",
   "metadata": {},
   "outputs": [],
   "source": [
    "accelerometer_activity_sorted = []\n",
    "\n",
    "for i in range(len(accelerometer_activity)):\n",
    "    sorted_values = sorted(accelerometer_activity[i])\n",
    "    accelerometer_activity_sorted.append(sorted_values)\n",
    "\n",
    "gyroscope_activity_sorted = []\n",
    "\n",
    "for i in range(len(gyroscope_activity)):\n",
    "    sorted_values = sorted(gyroscope_activity[i])\n",
    "    gyroscope_activity_sorted.append(sorted_values)\n",
    "\n",
    "\n",
    "magnetometer_activity_sorted = []\n",
    "\n",
    "for i in range(len(magnetometer_activity)):\n",
    "    sorted_values = sorted(magnetometer_activity[i])\n",
    "    magnetometer_activity_sorted.append(sorted_values)"
   ]
  },
  {
   "cell_type": "markdown",
   "id": "7cf34f7f",
   "metadata": {},
   "source": [
    "- Lenght of each sensor list"
   ]
  },
  {
   "cell_type": "code",
   "execution_count": 10,
   "id": "6fd554e0",
   "metadata": {},
   "outputs": [
    {
     "name": "stdout",
     "output_type": "stream",
     "text": [
      "Accelerometer:  [162125, 85632, 83584, 141342]\n",
      "Gyroscope:  [162125, 85632, 83584, 141342]\n",
      "Magnetometer:  [162125, 85632, 83584, 141342]\n"
     ]
    }
   ],
   "source": [
    "len_accelerometer = []\n",
    "\n",
    "for i in range(len(accelerometer_activity_sorted)):\n",
    "    len_accelerometer.append(len(accelerometer_activity_sorted[i]))\n",
    "\n",
    "\n",
    "len_gyroscope = []\n",
    "\n",
    "for i in range(len(gyroscope_activity_sorted)):\n",
    "    len_gyroscope.append(len(gyroscope_activity_sorted[i]))\n",
    "\n",
    "\n",
    "len_magnetometer = []\n",
    "\n",
    "for i in range(len(magnetometer_activity_sorted)):\n",
    "    len_magnetometer.append(len(magnetometer_activity_sorted[i]))\n",
    "\n",
    "\n",
    "print(\"Accelerometer: \",len_accelerometer)\n",
    "print(\"Gyroscope: \",len_gyroscope)\n",
    "print(\"Magnetometer: \",len_magnetometer)"
   ]
  },
  {
   "cell_type": "markdown",
   "id": "1da45d30",
   "metadata": {},
   "source": [
    "- Calculation of Q1 and Q3 for each sensor (accelerometer/gyroscope/magnetometer) for each activity"
   ]
  },
  {
   "cell_type": "code",
   "execution_count": 11,
   "id": "c8cb2b68",
   "metadata": {},
   "outputs": [],
   "source": [
    "Q1_acc = []\n",
    "Q3_acc = []\n",
    "\n",
    "for i in range(len(accelerometer_activity_sorted)):\n",
    "    values = accelerometer_activity_sorted[i]     \n",
    "    n = len(values)\n",
    "    pos_Q1 = 0.25 * (n + 1)\n",
    "    pos_Q3 = 0.75 * (n + 1)\n",
    "\n",
    "    lower_Q1 = int(pos_Q1) - 1\n",
    "    upper_Q1 = lower_Q1 + 1\n",
    "    lower_Q3 = int(pos_Q3) - 1\n",
    "    upper_Q3 = lower_Q3 + 1\n",
    "\n",
    "    Q1_val = values[lower_Q1] + (pos_Q1 - int(pos_Q1)) * (values[upper_Q1] - values[lower_Q1])\n",
    "    Q3_val = values[lower_Q3] + (pos_Q3 - int(pos_Q3)) * (values[upper_Q3] - values[lower_Q3])\n",
    "\n",
    "    Q1_acc.append(Q1_val)\n",
    "    Q3_acc.append(Q3_val)\n",
    "\n",
    "\n",
    "Q1_gyr = []\n",
    "Q3_gyr = []\n",
    "\n",
    "for i in range(len(gyroscope_activity_sorted)):\n",
    "    values = gyroscope_activity_sorted[i]\n",
    "    n = len(values)\n",
    "    pos_Q1 = 0.25 * (n + 1)\n",
    "    pos_Q3 = 0.75 * (n + 1)\n",
    "\n",
    "    lower_Q1 = int(pos_Q1) - 1\n",
    "    upper_Q1 = lower_Q1 + 1\n",
    "    lower_Q3 = int(pos_Q3) - 1\n",
    "    upper_Q3 = lower_Q3 + 1\n",
    "\n",
    "    Q1_val = values[lower_Q1] + (pos_Q1 - int(pos_Q1)) * (values[upper_Q1] - values[lower_Q1])\n",
    "    Q3_val = values[lower_Q3] + (pos_Q3 - int(pos_Q3)) * (values[upper_Q3] - values[lower_Q3])\n",
    "\n",
    "    Q1_gyr.append(Q1_val)\n",
    "    Q3_gyr.append(Q3_val)\n",
    "\n",
    "\n",
    "Q1_mag = []\n",
    "Q3_mag = []\n",
    "\n",
    "for i in range(len(magnetometer_activity_sorted)):\n",
    "    values = magnetometer_activity_sorted[i]\n",
    "    n = len(values)\n",
    "    pos_Q1 = 0.25 * (n + 1)\n",
    "    pos_Q3 = 0.75 * (n + 1)\n",
    "\n",
    "    lower_Q1 = int(pos_Q1) - 1\n",
    "    upper_Q1 = lower_Q1 + 1\n",
    "    lower_Q3 = int(pos_Q3) - 1\n",
    "    upper_Q3 = lower_Q3 + 1\n",
    "\n",
    "    Q1_val = values[lower_Q1] + (pos_Q1 - int(pos_Q1)) * (values[upper_Q1] - values[lower_Q1])\n",
    "    Q3_val = values[lower_Q3] + (pos_Q3 - int(pos_Q3)) * (values[upper_Q3] - values[lower_Q3])\n",
    "\n",
    "    Q1_mag.append(Q1_val)\n",
    "    Q3_mag.append(Q3_val)\n"
   ]
  },
  {
   "cell_type": "code",
   "execution_count": 12,
   "id": "f11b2f72",
   "metadata": {},
   "outputs": [
    {
     "name": "stdout",
     "output_type": "stream",
     "text": [
      "Q1 (acc):  [9.819646410640253, 9.901181647157069, 9.883672002095173, 9.179633085362125]  Q3 (acc):  [9.870302200687677, 9.969197738113133, 9.940777034517975, 10.89105599130694]\n",
      "Q1 (gyr):  [1.3965113863838314, 1.1622591618481655, 1.2700557673988524, 42.23248137752593]  Q3 (gyr):  [2.6834860928961377, 1.5489879470143055, 1.9141148821648422, 107.80765056800097]\n",
      "Q1 (mag):  [0.9656947954601289, 1.1714641708767508, 1.1757712458930947, 0.9603195538311597]  Q3 (mag):  [1.1962697774540487, 1.301677157093859, 1.2948422088894886, 1.0854070396053244]\n"
     ]
    }
   ],
   "source": [
    "print(\"Q1 (acc): \",Q1_acc,\" Q3 (acc): \",Q3_acc)\n",
    "print(\"Q1 (gyr): \",Q1_gyr,\" Q3 (gyr): \",Q3_gyr)\n",
    "print(\"Q1 (mag): \",Q1_mag,\" Q3 (mag): \",Q3_mag)"
   ]
  },
  {
   "cell_type": "markdown",
   "id": "97bca2b5",
   "metadata": {},
   "source": [
    "- IQR (lower and upper interval)"
   ]
  },
  {
   "cell_type": "code",
   "execution_count": 13,
   "id": "1dd40c87",
   "metadata": {},
   "outputs": [],
   "source": [
    "k = 1.5 \n",
    "\n",
    "IQR_acc = [Q3_acc[i] - Q1_acc[i] for i in range(len(Q1_acc))]\n",
    "lower_acc = [Q1_acc[i] - k * IQR_acc[i] for i in range(len(IQR_acc))]\n",
    "upper_acc = [Q3_acc[i] + k * IQR_acc[i] for i in range(len(IQR_acc))]\n",
    "\n",
    "IQR_gyr = [Q3_gyr[i] - Q1_gyr[i] for i in range(len(Q1_gyr))]\n",
    "lower_gyr = [Q1_gyr[i] - k * IQR_gyr[i] for i in range(len(IQR_gyr))]\n",
    "upper_gyr = [Q3_gyr[i] + k * IQR_gyr[i] for i in range(len(IQR_gyr))]\n",
    "\n",
    "IQR_mag = [Q3_mag[i] - Q1_mag[i] for i in range(len(Q1_mag))]\n",
    "lower_mag = [Q1_mag[i] - k * IQR_mag[i] for i in range(len(IQR_mag))]\n",
    "upper_mag = [Q3_mag[i] + k * IQR_mag[i] for i in range(len(IQR_mag))]\n"
   ]
  },
  {
   "cell_type": "code",
   "execution_count": 14,
   "id": "e6e1a18c",
   "metadata": {},
   "outputs": [
    {
     "name": "stdout",
     "output_type": "stream",
     "text": [
      "[9.743662725569116, 9.799157510722972, 9.798014453460969, 6.612498726444903] [9.946285885758812, 10.071221874547229, 10.026434583152177, 13.458190350224163]\n",
      "[-0.533950673384628, 0.5821659840989554, 0.30396709524986776, -56.13027240818663] [4.613948152664597, 2.1290811247635157, 2.8802035543138267, 206.17040435371354]\n",
      "[0.6198323224692492, 0.9761446915510885, 0.9971648013985037, 0.7726883251699128] [1.5421322504449284, 1.4969966364195213, 1.4734486533840796, 1.2730382682665713]\n"
     ]
    }
   ],
   "source": [
    "print(lower_acc,upper_acc)\n",
    "print(lower_gyr,upper_gyr)\n",
    "print(lower_mag,upper_mag)"
   ]
  },
  {
   "cell_type": "markdown",
   "id": "38d78874",
   "metadata": {},
   "source": [
    "Points that were classificated as outliers"
   ]
  },
  {
   "cell_type": "code",
   "execution_count": 15,
   "id": "df8b8147",
   "metadata": {},
   "outputs": [],
   "source": [
    "outliers_acc = []\n",
    "\n",
    "for i, values in enumerate(accelerometer_activity_sorted):\n",
    "    outliers_i = [v for v in values if v < lower_acc[i] or v > upper_acc[i]]\n",
    "    outliers_acc.append(outliers_i)\n",
    "\n",
    "outliers_gyr = []\n",
    "for i, values in enumerate(gyroscope_activity_sorted):\n",
    "    outliers_i = [v for v in values if v < lower_gyr[i] or v > upper_gyr[i]]\n",
    "    outliers_gyr.append(outliers_i)\n",
    "\n",
    "outliers_mag = []\n",
    "for i, values in enumerate(magnetometer_activity_sorted):\n",
    "    outliers_i = [v for v in values if v < lower_mag[i] or v > upper_mag[i]]\n",
    "    outliers_mag.append(outliers_i)"
   ]
  },
  {
   "cell_type": "code",
   "execution_count": 27,
   "id": "101b386d",
   "metadata": {},
   "outputs": [
    {
     "name": "stdout",
     "output_type": "stream",
     "text": [
      "Número de outliers em acelerómetro (para cada atividade):  [9047, 532, 3285, 4556]\n",
      "Número de outliers em giroscópio (para cada atividade):  [15149, 5448, 8188, 2691]\n",
      "Número de outliers em magnetómetro (para cada atividade):  [1, 0, 9, 1541]\n"
     ]
    }
   ],
   "source": [
    "nr_outliers_acc = [len(outliers) for outliers in outliers_acc]\n",
    "nr_outliers_gyr = [len(outliers) for outliers in outliers_gyr]\n",
    "nr_outliers_mag = [len(outliers) for outliers in outliers_mag]\n",
    "\n",
    "print(\"Número de outliers em acelerómetro (para cada atividade): \",nr_outliers_acc)\n",
    "print(\"Número de outliers em giroscópio (para cada atividade): \",nr_outliers_gyr)\n",
    "print(\"Número de outliers em magnetómetro (para cada atividade): \",nr_outliers_mag)"
   ]
  },
  {
   "cell_type": "markdown",
   "id": "21636823",
   "metadata": {},
   "source": [
    "Outliers Density\n",
    "- density = (nº of points classified as outliers/nº total points)*100"
   ]
  },
  {
   "cell_type": "code",
   "execution_count": 29,
   "id": "aa7f52c1",
   "metadata": {},
   "outputs": [
    {
     "name": "stdout",
     "output_type": "stream",
     "text": [
      "Densidade de outliers do acelerómetro:  [5.5802621434078645, 0.6212630792227205, 3.930178024502297, 3.223387245121762]\n",
      "Densidade de outliers do giroscópio:  [9.34402467232074, 6.362107623318386, 9.796133231240429, 1.9038926858258691]\n",
      "Densidade de outliers do magnetómetro:  [0.0006168080185042406, 0.0, 0.01076761102603369, 1.0902633329088312]\n"
     ]
    }
   ],
   "source": [
    "density_accelerometer = [(nr_outliers_acc[i] / len_accelerometer[i]) * 100 for i in range(len(nr_outliers_acc))]\n",
    "\n",
    "density_gyroscope = [(nr_outliers_gyr[i] / len_gyroscope[i]) * 100 for i in range(len(nr_outliers_gyr))]\n",
    "\n",
    "density_magnetometer = [(nr_outliers_mag[i] / len_magnetometer[i]) * 100 for i in range(len(nr_outliers_mag))]\n",
    "\n",
    "print(\"Densidade de outliers do acelerómetro: \",density_accelerometer)\n",
    "print(\"Densidade de outliers do giroscópio: \",density_gyroscope)\n",
    "print(\"Densidade de outliers do magnetómetro: \",density_magnetometer)"
   ]
  },
  {
   "cell_type": "markdown",
   "id": "051459c2",
   "metadata": {},
   "source": [
    "### 3.3 - Z-Score Implementation"
   ]
  },
  {
   "cell_type": "code",
   "execution_count": 32,
   "id": "c1d04e3d",
   "metadata": {},
   "outputs": [],
   "source": [
    "def zscore_sensor(sensor_data, k=3):\n",
    "\n",
    "    z_scores_sensor = []\n",
    "    outliers_sensor = []\n",
    "    nr_outliers = []\n",
    "\n",
    "    for values in sensor_data:\n",
    "        n = len(values)\n",
    "        if n == 0:\n",
    "            z_scores_sensor.append([])\n",
    "            outliers_sensor.append([])\n",
    "            nr_outliers.append(0)\n",
    "            continue\n",
    "\n",
    "        mean = sum(values) / n\n",
    "        variance = sum((x - mean) ** 2 for x in values) / n\n",
    "        std_deviation = variance ** 0.5\n",
    "\n",
    "        if std_deviation == 0:\n",
    "            z_scores_sensor.append([0] * n)\n",
    "            outliers_sensor.append([])\n",
    "            nr_outliers.append(0)\n",
    "            continue\n",
    "\n",
    "        z_scores = [(x - mean) / std_deviation for x in values]\n",
    "        outliers = [values[i] for i, z in enumerate(z_scores) if abs(z) > k]\n",
    "\n",
    "        z_scores_sensor.append(z_scores)\n",
    "        outliers_sensor.append(outliers)\n",
    "        nr_outliers.append(len(outliers))\n",
    "\n",
    "    return z_scores_sensor, outliers_sensor, nr_outliers\n"
   ]
  },
  {
   "cell_type": "markdown",
   "id": "3913b3a2",
   "metadata": {},
   "source": [
    "- Z-Score (K=3)"
   ]
  },
  {
   "cell_type": "code",
   "execution_count": 31,
   "id": "2b942ea6",
   "metadata": {},
   "outputs": [
    {
     "name": "stdout",
     "output_type": "stream",
     "text": [
      "Outliers do acelerómetro: [1401, 236, 523, 1530]\n",
      "Outliers do giroscópio: [1963, 341, 434, 1329]\n",
      "Outliers do magnetómetro: [8, 2, 10, 961]\n"
     ]
    }
   ],
   "source": [
    "z_acc, out_acc, nr_out_acc = zscore_sensor(accelerometer_activity_sorted, k=3)\n",
    "z_gyr, out_gyr, nr_out_gyr = zscore_sensor(gyroscope_activity_sorted, k=3)\n",
    "z_mag, out_mag, nr_out_mag = zscore_sensor(magnetometer_activity_sorted, k=3)\n",
    "\n",
    "print(\"Outliers do acelerómetro:\", nr_out_acc)\n",
    "print(\"Outliers do giroscópio:\", nr_out_gyr)\n",
    "print(\"Outliers do magnetómetro:\", nr_out_mag)\n"
   ]
  },
  {
   "cell_type": "markdown",
   "id": "70893860",
   "metadata": {},
   "source": [
    "- Z-Scpre (k=1.5)"
   ]
  },
  {
   "cell_type": "code",
   "execution_count": 33,
   "id": "9579bd09",
   "metadata": {},
   "outputs": [
    {
     "name": "stdout",
     "output_type": "stream",
     "text": [
      "Outliers do acelerómetro: [2841, 1480, 1880, 15859]\n",
      "Outliers do giroscópio: [3690, 597, 834, 13129]\n",
      "Outliers do magnetómetro: [7706, 8163, 7018, 16489]\n"
     ]
    }
   ],
   "source": [
    "z_acc, out_acc, nr_out_acc = zscore_sensor(accelerometer_activity_sorted, k=1.5)\n",
    "z_gyr, out_gyr, nr_out_gyr = zscore_sensor(gyroscope_activity_sorted, k=1.5)\n",
    "z_mag, out_mag, nr_out_mag = zscore_sensor(magnetometer_activity_sorted, k=1.5)\n",
    "\n",
    "print(\"Outliers do acelerómetro:\", nr_out_acc)\n",
    "print(\"Outliers do giroscópio:\", nr_out_gyr)\n",
    "print(\"Outliers do magnetómetro:\", nr_out_mag)\n"
   ]
  },
  {
   "cell_type": "markdown",
   "id": "9096591a",
   "metadata": {},
   "source": [
    "### 3.4 - Plot of Outliers using Z-Score (k=3, 3.5 and 4)"
   ]
  },
  {
   "cell_type": "markdown",
   "id": "87ffed80",
   "metadata": {},
   "source": [
    "- Calculation of the magnitude"
   ]
  },
  {
   "cell_type": "code",
   "execution_count": 34,
   "id": "ea737726",
   "metadata": {},
   "outputs": [],
   "source": [
    "def magnitude(sensor_data_xyz):\n",
    "\n",
    "    magnitudes = []\n",
    "    for x, y, z in sensor_data_xyz:\n",
    "        x, y, z = np.array(x), np.array(y), np.array(z)\n",
    "        mag = np.sqrt(x**2 + y**2 + z**2)\n",
    "        magnitudes.append(mag.tolist())\n",
    "    return magnitudes"
   ]
  },
  {
   "cell_type": "markdown",
   "id": "21600997",
   "metadata": {},
   "source": [
    "- Plot function"
   ]
  },
  {
   "cell_type": "code",
   "execution_count": 35,
   "id": "cbe49a09",
   "metadata": {},
   "outputs": [],
   "source": [
    "def outliers_per_activity(sensor_name, magnitudes, z_scores, k, activity_names=None):\n",
    "    num_atividades = len(magnitudes)\n",
    "\n",
    "    for i in range(num_atividades):\n",
    "        values = magnitudes[i]\n",
    "        z = z_scores[i]\n",
    "        indexs = np.arange(len(values))\n",
    "\n",
    "        outlier_mask = np.abs(z) > k\n",
    "\n",
    "        plt.figure(figsize=(8, 4))\n",
    "        plt.scatter(indexs[~outlier_mask], np.array(values)[~outlier_mask],\n",
    "                    color='blue', s=10, label='Normal')\n",
    "        plt.scatter(indexs[outlier_mask], np.array(values)[outlier_mask],\n",
    "                    color='red', s=15, label='Outlier')\n",
    "\n",
    "        title = f\"{sensor_name} - {activity_names[i] if activity_names else f'Activity {i+1}'} (k={k})\"\n",
    "        plt.title(title)\n",
    "        plt.xlabel(\"Sample\")\n",
    "        plt.ylabel(\"Magnitude\")\n",
    "        plt.legend()\n",
    "        plt.grid(alpha=0.3)\n",
    "        plt.tight_layout()\n",
    "        plt.show()\n"
   ]
  }
 ],
 "metadata": {
  "kernelspec": {
   "display_name": "Python 3",
   "language": "python",
   "name": "python3"
  },
  "language_info": {
   "codemirror_mode": {
    "name": "ipython",
    "version": 3
   },
   "file_extension": ".py",
   "mimetype": "text/x-python",
   "name": "python",
   "nbconvert_exporter": "python",
   "pygments_lexer": "ipython3",
   "version": "3.11.0"
  }
 },
 "nbformat": 4,
 "nbformat_minor": 5
}
